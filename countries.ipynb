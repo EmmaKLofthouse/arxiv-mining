{
 "cells": [
  {
   "cell_type": "code",
   "execution_count": 1,
   "metadata": {},
   "outputs": [],
   "source": [
    "from six.moves import urllib\n",
    "import pandas as pd\n",
    "from bs4 import BeautifulSoup\n",
    "import matplotlib.pyplot as plt\n",
    "from scipy import stats\n",
    "import numpy as np"
   ]
  },
  {
   "cell_type": "code",
   "execution_count": 8,
   "metadata": {},
   "outputs": [],
   "source": [
    "countries = pd.read_csv(\"UNcountries.txt\")"
   ]
  },
  {
   "cell_type": "code",
   "execution_count": 9,
   "metadata": {},
   "outputs": [],
   "source": [
    "def n_total_papers(year,month):\n",
    "        \n",
    "    #url of arxiv page with first 25 papers in the month\n",
    "    url25 = \"https://arxiv.org/list?archive=astro-ph&year=\" + year + \"&month=\" + month +\"&submit=Go\" \n",
    "    \n",
    "    page25 = urllib.request.urlopen(url25)\n",
    "    soup25 = BeautifulSoup(page25, \"html.parser\")\n",
    "    \n",
    "    n = soup25.find_all(\"small\")\n",
    "    total_papers = (n[0].text.split(\"total of \")[1]).split(\" entries\")[0]\n",
    "    \n",
    "    return int(total_papers)"
   ]
  },
  {
   "cell_type": "code",
   "execution_count": 10,
   "metadata": {},
   "outputs": [],
   "source": [
    "#define function to count incidences of each country\n",
    "\n",
    "def count(year,month,df):\n",
    "\n",
    "    #find total number of papers to determine correct url\n",
    "    total_papers = n_total_papers(year,month)\n",
    "    \n",
    "    urlall = \"https://arxiv.org/list/astro-ph/\" + year + month + \"?show=\" + str(total_papers)\n",
    "    #e.g. in February 2022 there were 1205 papers so the url is \n",
    "    #https://arxiv.org/list/astro-ph/2202?show=1205\n",
    "\n",
    "    page = urllib.request.urlopen(urlall)\n",
    "    soup = BeautifulSoup(page, \"html.parser\")    \n",
    "\n",
    "    a = soup.find_all(\"a\", href=True)\n",
    "\n",
    "    #get pdf of paper\n",
    "    pdfs=[]\n",
    "    for a in soup.find_all('a', href=True):\n",
    "        if '/pdf/' in a['href']:\n",
    "            pdfs.append(a['href'])\n",
    "\n",
    "    pdf_countries = get_countries(pdfs)\n",
    "        \n",
    "    ###### append count of countries\n",
    "    \n",
    "            \n",
    "    return df"
   ]
  },
  {
   "cell_type": "code",
   "execution_count": 15,
   "metadata": {},
   "outputs": [],
   "source": [
    "def get_countries(pdfs):\n",
    "    #function to open pdf and search for country affiliations\n",
    "    \n",
    "    for p in pdfs:\n",
    "        arxiv_url = 'https://arxiv.org/' + p\n",
    "    \n",
    "    ######## FINISH COUNT OF COUNTRIES HERE ##########\n",
    "    pdf_countries = 0\n",
    "    \n",
    "    return pdf_countries"
   ]
  },
  {
   "cell_type": "code",
   "execution_count": 16,
   "metadata": {},
   "outputs": [],
   "source": [
    "years = ['19']#,'20','21']#['10','11','12','13','14','15','16','17','18','19','20','21']\n",
    "months = ['01','02','03']#,'04','05','06','07','08','09','10','11','12']"
   ]
  },
  {
   "cell_type": "code",
   "execution_count": 17,
   "metadata": {},
   "outputs": [],
   "source": [
    "d = {'year': [], 'month': [], 'country': [], 'count': []}\n",
    "countries_by_month = pd.DataFrame(data=d)        "
   ]
  },
  {
   "cell_type": "code",
   "execution_count": 18,
   "metadata": {},
   "outputs": [
    {
     "name": "stdout",
     "output_type": "stream",
     "text": [
      "19 01\n",
      "19 02\n",
      "19 03\n"
     ]
    }
   ],
   "source": [
    "for year in years:\n",
    "    for month in months:\n",
    "        print year, month\n",
    "        \n",
    "        df = countries # create df from list of countries\n",
    "        df['year'] = '20' + year\n",
    "        df['month'] = month\n",
    "        df['count'] = 0 #initialise count for each country to zero\n",
    "\n",
    "        n_countries = count(year,month,df)\n",
    "        \n",
    "        countries_by_month = pd.concat([countries_by_month, df], axis=0,sort=False)\n",
    "        \n",
    "        "
   ]
  },
  {
   "cell_type": "code",
   "execution_count": null,
   "metadata": {},
   "outputs": [],
   "source": []
  }
 ],
 "metadata": {
  "kernelspec": {
   "display_name": "Python 2",
   "language": "python",
   "name": "python2"
  },
  "language_info": {
   "codemirror_mode": {
    "name": "ipython",
    "version": 2
   },
   "file_extension": ".py",
   "mimetype": "text/x-python",
   "name": "python",
   "nbconvert_exporter": "python",
   "pygments_lexer": "ipython2",
   "version": "2.7.15"
  }
 },
 "nbformat": 4,
 "nbformat_minor": 2
}
