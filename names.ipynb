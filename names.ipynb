{
 "cells": [
  {
   "cell_type": "code",
   "execution_count": 1,
   "metadata": {},
   "outputs": [],
   "source": [
    "from six.moves import urllib\n",
    "import pandas as pd\n",
    "from bs4 import BeautifulSoup\n",
    "import matplotlib.pyplot as plt\n",
    "from scipy import stats\n",
    "import numpy as np"
   ]
  },
  {
   "cell_type": "code",
   "execution_count": 2,
   "metadata": {},
   "outputs": [],
   "source": [
    "#read in lists of male and female names\n",
    "femaleNames = pd.read_table(\"femaleNames.txt\",skiprows=1)\n",
    "maleNames = pd.read_table(\"maleNames.txt\",skiprows=1)\n",
    "\n",
    "#convert to list\n",
    "femaleNames = femaleNames['Name'].tolist()\n",
    "maleNames = maleNames['Name'].tolist()"
   ]
  },
  {
   "cell_type": "code",
   "execution_count": 3,
   "metadata": {},
   "outputs": [],
   "source": [
    "def n_total_papers(year,month):\n",
    "        \n",
    "    #url of arxiv page with first 25 papers in the month\n",
    "    url25 = \"https://arxiv.org/list?archive=astro-ph&year=\" + year + \"&month=\" + month +\"&submit=Go\" \n",
    "    \n",
    "    page25 = urllib.request.urlopen(url25)\n",
    "    soup25 = BeautifulSoup(page25, \"html.parser\")\n",
    "    \n",
    "    n = soup25.find_all(\"small\")\n",
    "    total_papers = (n[0].text.split(\"total of \")[1]).split(\" entries\")[0]\n",
    "    \n",
    "    return int(total_papers)"
   ]
  },
  {
   "cell_type": "code",
   "execution_count": 4,
   "metadata": {},
   "outputs": [],
   "source": [
    "#define function to count number of male/female authors\n",
    "def count(year,month):\n",
    "\n",
    "    #find total number of papers to determine correct url\n",
    "    total_papers = n_total_papers(year,month)\n",
    "    \n",
    "    urlall = \"https://arxiv.org/list/astro-ph/\" + year + month + \"?show=\" + str(total_papers)\n",
    "    #e.g. in February 2022 there were 1205 papers so the url is \n",
    "    #https://arxiv.org/list/astro-ph/2202?show=1205\n",
    "\n",
    "    page = urllib.request.urlopen(urlall)\n",
    "    soup = BeautifulSoup(page, \"html.parser\")    \n",
    "\n",
    "    a = soup.find_all(\"a\", href=True)\n",
    "\n",
    "    authors=[]\n",
    "    for a in soup.find_all('a', href=True):\n",
    "        if 'author' in a['href']:\n",
    "            authors.append(a.string)\n",
    "    \n",
    "    #take first name only \n",
    "    firstNames = []\n",
    "    for ai in authors:\n",
    "        firstNames.append(ai.split(' ')[0])\n",
    "\n",
    "    n_female=0\n",
    "    n_male=0\n",
    "\n",
    "    for name in firstNames:\n",
    "        if name in femaleNames:\n",
    "            n_female += 1\n",
    "        if name in maleNames:\n",
    "            n_male += 1\n",
    "            \n",
    "    return n_female, n_male"
   ]
  },
  {
   "cell_type": "code",
   "execution_count": 5,
   "metadata": {},
   "outputs": [],
   "source": [
    "years = ['17','18','19','20','21']#['10','11','12','13','14','15','16','17','18','19','20','21']\n",
    "months = ['01','02','03','04','05','06','07','08','09','10','11','12']"
   ]
  },
  {
   "cell_type": "code",
   "execution_count": 6,
   "metadata": {},
   "outputs": [],
   "source": [
    "d = {'year_month': [], 'n_female': [], 'n_male': []}\n",
    "n_gender_by_month = pd.DataFrame(data=d)        "
   ]
  },
  {
   "cell_type": "code",
   "execution_count": null,
   "metadata": {},
   "outputs": [
    {
     "name": "stdout",
     "output_type": "stream",
     "text": [
      "Year:17 Month:01\n",
      "Year:17 Month:02\n",
      "Year:17 Month:03\n",
      "Year:17 Month:04\n",
      "Year:17 Month:05\n",
      "Year:17 Month:06\n",
      "Year:17 Month:07\n",
      "Year:17 Month:08\n",
      "Year:17 Month:09\n",
      "Year:17 Month:10\n",
      "Year:17 Month:11\n",
      "Year:17 Month:12\n",
      "Year:18 Month:01\n",
      "Year:18 Month:02\n",
      "Year:18 Month:03\n",
      "Year:18 Month:04\n",
      "Year:18 Month:05\n",
      "Year:18 Month:06\n",
      "Year:18 Month:07\n",
      "Year:18 Month:08\n",
      "Year:18 Month:09\n",
      "Year:18 Month:10\n",
      "Year:18 Month:11\n",
      "Year:18 Month:12\n",
      "Year:19 Month:01\n",
      "Year:19 Month:02\n",
      "Year:19 Month:03\n",
      "Year:19 Month:04\n",
      "Year:19 Month:05\n",
      "Year:19 Month:06\n",
      "Year:19 Month:07\n",
      "Year:19 Month:08\n"
     ]
    }
   ],
   "source": [
    "for year in years:\n",
    "    for month in months:\n",
    "        print 'Year:' + year + ' Month:' + str(month)\n",
    "        n_female,n_male = count(year,month)\n",
    "        year_month = str(year) +'_' + str(month)\n",
    "        n_gender_by_month = n_gender_by_month.append({'year_month':year_month,'n_female':n_female,'n_male':n_male}, ignore_index=True)\n"
   ]
  },
  {
   "cell_type": "code",
   "execution_count": null,
   "metadata": {},
   "outputs": [],
   "source": []
  }
 ],
 "metadata": {
  "kernelspec": {
   "display_name": "Python 2",
   "language": "python",
   "name": "python2"
  },
  "language_info": {
   "codemirror_mode": {
    "name": "ipython",
    "version": 2
   },
   "file_extension": ".py",
   "mimetype": "text/x-python",
   "name": "python",
   "nbconvert_exporter": "python",
   "pygments_lexer": "ipython2",
   "version": "2.7.15"
  }
 },
 "nbformat": 4,
 "nbformat_minor": 2
}
